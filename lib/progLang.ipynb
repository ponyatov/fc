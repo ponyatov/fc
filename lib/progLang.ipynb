{
 "cells": [
  {
   "cell_type": "markdown",
   "id": "91852bc4-0cad-4c43-808f-ea5b8ab3ad87",
   "metadata": {},
   "source": [
    "# **Programming Language Concepts**\n",
    "\n",
    "### *Peter Sestoft*"
   ]
  },
  {
   "cell_type": "markdown",
   "id": "4de46a07-ae68-4a9a-b6a6-2e158246f139",
   "metadata": {},
   "source": [
    "## 1.3.1 Expressions Without Variables /p.17/"
   ]
  },
  {
   "cell_type": "code",
   "execution_count": 3,
   "id": "2f4e724c-eef0-4cd9-9713-d14b96aa8b2b",
   "metadata": {},
   "outputs": [],
   "source": [
    "type Expr =\n",
    "    | Int of int\n",
    "    | Add of Expr * Expr\n",
    "    | Mul of Expr * Expr\n",
    "    | Var of string"
   ]
  },
  {
   "cell_type": "code",
   "execution_count": 4,
   "id": "d614ee03-9687-466c-96b6-ddeb81e3f64e",
   "metadata": {},
   "outputs": [
    {
     "data": {
      "text/html": [
       "<details open=\"open\" class=\"dni-treeview\"><summary><span class=\"dni-code-hint\"><code>(Int 123, Add (Int 2, Int 3), Mul (Int 123, Add (Int 2, Int 3)))</code></span></summary><div><table><thead><tr></tr></thead><tbody><tr><td>Item1</td><td><details class=\"dni-treeview\"><summary><span class=\"dni-code-hint\"><code>Int 123</code></span></summary><div><table><thead><tr></tr></thead><tbody><tr><td>Item</td><td><div class=\"dni-plaintext\"><pre>123</pre></div></td></tr></tbody></table></div></details></td></tr><tr><td>Item2</td><td><details class=\"dni-treeview\"><summary><span class=\"dni-code-hint\"><code>Add (Int 2, Int 3)</code></span></summary><div><table><thead><tr></tr></thead><tbody><tr><td>Item1</td><td><details class=\"dni-treeview\"><summary><span class=\"dni-code-hint\"><code>Int 2</code></span></summary><div><table><thead><tr></tr></thead><tbody><tr><td>Item</td><td><div class=\"dni-plaintext\"><pre>2</pre></div></td></tr></tbody></table></div></details></td></tr><tr><td>Item2</td><td><details class=\"dni-treeview\"><summary><span class=\"dni-code-hint\"><code>Int 3</code></span></summary><div><table><thead><tr></tr></thead><tbody><tr><td>Item</td><td><div class=\"dni-plaintext\"><pre>3</pre></div></td></tr></tbody></table></div></details></td></tr></tbody></table></div></details></td></tr><tr><td>Item3</td><td><details class=\"dni-treeview\"><summary><span class=\"dni-code-hint\"><code>Mul (Int 123, Add (Int 2, Int 3))</code></span></summary><div><table><thead><tr></tr></thead><tbody><tr><td>Item1</td><td><details class=\"dni-treeview\"><summary><span class=\"dni-code-hint\"><code>Int 123</code></span></summary><div><table><thead><tr></tr></thead><tbody><tr><td>Item</td><td><div class=\"dni-plaintext\"><pre>123</pre></div></td></tr></tbody></table></div></details></td></tr><tr><td>Item2</td><td><details class=\"dni-treeview\"><summary><span class=\"dni-code-hint\"><code>Add (Int 2, Int 3)</code></span></summary><div><table><thead><tr></tr></thead><tbody><tr><td>Item1</td><td><details class=\"dni-treeview\"><summary><span class=\"dni-code-hint\"><code>Int 2</code></span></summary><div><table><thead><tr></tr></thead><tbody><tr><td>Item</td><td><div class=\"dni-plaintext\"><pre>2</pre></div></td></tr></tbody></table></div></details></td></tr><tr><td>Item2</td><td><details class=\"dni-treeview\"><summary><span class=\"dni-code-hint\"><code>Int 3</code></span></summary><div><table><thead><tr></tr></thead><tbody><tr><td>Item</td><td><div class=\"dni-plaintext\"><pre>3</pre></div></td></tr></tbody></table></div></details></td></tr></tbody></table></div></details></td></tr></tbody></table></div></details></td></tr></tbody></table></div></details><style>\r\n",
       ".dni-code-hint {\r\n",
       "    font-style: italic;\r\n",
       "    overflow: hidden;\r\n",
       "    white-space: nowrap;\r\n",
       "}\r\n",
       ".dni-treeview {\r\n",
       "    white-space: nowrap;\r\n",
       "}\r\n",
       ".dni-treeview td {\r\n",
       "    vertical-align: top;\r\n",
       "    text-align: start;\r\n",
       "}\r\n",
       "details.dni-treeview {\r\n",
       "    padding-left: 1em;\r\n",
       "}\r\n",
       "table td {\r\n",
       "    text-align: start;\r\n",
       "}\r\n",
       "table tr { \r\n",
       "    vertical-align: top; \r\n",
       "    margin: 0em 0px;\r\n",
       "}\r\n",
       "table tr td pre \r\n",
       "{ \r\n",
       "    vertical-align: top !important; \r\n",
       "    margin: 0em 0px !important;\r\n",
       "} \r\n",
       "table th {\r\n",
       "    text-align: start;\r\n",
       "}\r\n",
       "</style>"
      ]
     },
     "execution_count": 4,
     "metadata": {},
     "output_type": "execute_result"
    }
   ],
   "source": [
    "let int123 = Int 123\n",
    "let add23  = Add ( Int 2, Int 3 )\n",
    "let mul45  = Mul ( int123, add23 )\n",
    "\n",
    "int123, add23, mul45"
   ]
  },
  {
   "cell_type": "code",
   "execution_count": 5,
   "id": "ea46d01a-ce5c-4321-b583-51c603cfe1ac",
   "metadata": {},
   "outputs": [],
   "source": [
    "let glob = [ (\"pi\", 3); (\"zero\", 0) ]"
   ]
  },
  {
   "cell_type": "code",
   "execution_count": 6,
   "id": "79eabbcd-cb3d-413c-b94a-b4314bd9da77",
   "metadata": {},
   "outputs": [
    {
     "data": {
      "text/html": [
       "<details open=\"open\" class=\"dni-treeview\"><summary><span class=\"dni-code-hint\"><code>(3, 0)</code></span></summary><div><table><thead><tr></tr></thead><tbody><tr><td>Item1</td><td><div class=\"dni-plaintext\"><pre>3</pre></div></td></tr><tr><td>Item2</td><td><div class=\"dni-plaintext\"><pre>0</pre></div></td></tr></tbody></table></div></details><style>\r\n",
       ".dni-code-hint {\r\n",
       "    font-style: italic;\r\n",
       "    overflow: hidden;\r\n",
       "    white-space: nowrap;\r\n",
       "}\r\n",
       ".dni-treeview {\r\n",
       "    white-space: nowrap;\r\n",
       "}\r\n",
       ".dni-treeview td {\r\n",
       "    vertical-align: top;\r\n",
       "    text-align: start;\r\n",
       "}\r\n",
       "details.dni-treeview {\r\n",
       "    padding-left: 1em;\r\n",
       "}\r\n",
       "table td {\r\n",
       "    text-align: start;\r\n",
       "}\r\n",
       "table tr { \r\n",
       "    vertical-align: top; \r\n",
       "    margin: 0em 0px;\r\n",
       "}\r\n",
       "table tr td pre \r\n",
       "{ \r\n",
       "    vertical-align: top !important; \r\n",
       "    margin: 0em 0px !important;\r\n",
       "} \r\n",
       "table th {\r\n",
       "    text-align: start;\r\n",
       "}\r\n",
       "</style>"
      ]
     },
     "execution_count": 6,
     "metadata": {},
     "output_type": "execute_result"
    }
   ],
   "source": [
    "let rec lookup (env: (string * int) list) (var: string) : int =\n",
    "    match env with\n",
    "    | [] -> failwith $\"var: {var} undefined\"\n",
    "    | (k, v) :: t -> if k = var then v else lookup t var\n",
    "\n",
    "lookup glob \"pi\", lookup glob \"zero\"//, lookup glob \"x\""
   ]
  },
  {
   "cell_type": "code",
   "execution_count": 31,
   "id": "adc30885-2a08-428e-a76d-f3237cb8e8bf",
   "metadata": {},
   "outputs": [
    {
     "data": {
      "text/html": [
       "<details open=\"open\" class=\"dni-treeview\"><summary><span class=\"dni-code-hint\"><code>(123, 5, 615)</code></span></summary><div><table><thead><tr></tr></thead><tbody><tr><td>Item1</td><td><div class=\"dni-plaintext\"><pre>123</pre></div></td></tr><tr><td>Item2</td><td><div class=\"dni-plaintext\"><pre>5</pre></div></td></tr><tr><td>Item3</td><td><div class=\"dni-plaintext\"><pre>615</pre></div></td></tr></tbody></table></div></details><style>\r\n",
       ".dni-code-hint {\r\n",
       "    font-style: italic;\r\n",
       "    overflow: hidden;\r\n",
       "    white-space: nowrap;\r\n",
       "}\r\n",
       ".dni-treeview {\r\n",
       "    white-space: nowrap;\r\n",
       "}\r\n",
       ".dni-treeview td {\r\n",
       "    vertical-align: top;\r\n",
       "    text-align: start;\r\n",
       "}\r\n",
       "details.dni-treeview {\r\n",
       "    padding-left: 1em;\r\n",
       "}\r\n",
       "table td {\r\n",
       "    text-align: start;\r\n",
       "}\r\n",
       "table tr { \r\n",
       "    vertical-align: top; \r\n",
       "    margin: 0em 0px;\r\n",
       "}\r\n",
       "table tr td pre \r\n",
       "{ \r\n",
       "    vertical-align: top !important; \r\n",
       "    margin: 0em 0px !important;\r\n",
       "} \r\n",
       "table th {\r\n",
       "    text-align: start;\r\n",
       "}\r\n",
       "</style>"
      ]
     },
     "execution_count": 31,
     "metadata": {},
     "output_type": "execute_result"
    }
   ],
   "source": [
    "let rec eval (env: (string * int) list) (e:Expr) :int =\n",
    "    match e with\n",
    "    | Int n -> n\n",
    "    | Add (x,y) -> eval env x + eval env y\n",
    "    | Mul (x,y) -> eval env x * eval env y\n",
    "    | Var v -> lookup env v\n",
    "\n",
    "eval glob int123, eval glob add23, eval glob mul45"
   ]
  },
  {
   "cell_type": "markdown",
   "id": "180f977e-7c83-4f86-99e4-c67ce0372c6e",
   "metadata": {},
   "source": [
    "## 1.4 Syntax and Semantics /p.20/"
   ]
  },
  {
   "cell_type": "markdown",
   "id": "ac6b84b5-2c0f-4f86-987e-b79614dbb845",
   "metadata": {},
   "source": [
    "## 1.5 Representing Expressions by Objects /p.21/"
   ]
  },
  {
   "cell_type": "code",
   "execution_count": 7,
   "id": "c193b2b2-67a2-4b51-9580-7019c8247b39",
   "metadata": {},
   "outputs": [
    {
     "name": "stderr",
     "output_type": "stream",
     "text": [
      "\n",
      "input.fsx (1,1)-(1,9) parse error Unexpected keyword 'abstract' in interaction\n",
      "\n",
      "input.fsx (1,1)-(1,9) interactive error parse error\n",
      "\n"
     ]
    },
    {
     "ename": "Error",
     "evalue": "compilation error",
     "output_type": "error",
     "traceback": []
    }
   ],
   "source": [
    "abstract class Expr { }"
   ]
  },
  {
   "cell_type": "code",
   "execution_count": null,
   "id": "cc5ff7c4-3c77-4d2a-be37-61a5a8e0320f",
   "metadata": {},
   "outputs": [],
   "source": []
  }
 ],
 "metadata": {
  "kernelspec": {
   "display_name": ".NET (F#)",
   "language": "F#",
   "name": ".net-fsharp"
  },
  "language_info": {
   "file_extension": ".fs",
   "mimetype": "text/x-fsharp",
   "name": "F#",
   "pygments_lexer": "fsharp",
   "version": "8.0"
  }
 },
 "nbformat": 4,
 "nbformat_minor": 5
}
